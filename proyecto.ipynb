{
 "cells": [
  {
   "cell_type": "markdown",
   "id": "0f32fe0c",
   "metadata": {},
   "source": [
    "# Proyecto 2: Análisis Exploratorio\n",
    "### Tema 12: Google - American Sign Language Fingerspelling Recognition\n",
    "<div align=\"center\">\n",
    "<img src=./data/image.png alt=\"Sign Language Fingerspelling Recognition\" width=\"600\"/>\n",
    "</div>\n",
    "\n",
    "**Integrantes:**\n",
    "- Derek Fabian Arreaga Kelson | 22537\n",
    "- Mónica Alejandra Salvatierra Chacón | 22249\n",
    "- Sofía Mishell Velásquez Mérida | 22049\n",
    "- Paula Rebeca Barillas Alvarez | 22764"
   ]
  },
  {
   "cell_type": "markdown",
   "id": "ad3ab486",
   "metadata": {},
   "source": [
    "## Librerías principales para análisis de datos y visualización"
   ]
  },
  {
   "cell_type": "code",
   "execution_count": 2,
   "id": "c14de12c",
   "metadata": {},
   "outputs": [],
   "source": [
    "import pandas as pd\n",
    "import numpy as np\n",
    "import matplotlib.pyplot as plt\n",
    "import seaborn as sns\n",
    "import plotly.express as px\n",
    "import warnings\n",
    "warnings.filterwarnings('ignore')"
   ]
  },
  {
   "cell_type": "markdown",
   "id": "0595c3ae",
   "metadata": {},
   "source": [
    "## Lectura de los datos principales"
   ]
  },
  {
   "cell_type": "code",
   "execution_count": 3,
   "id": "4381fa85",
   "metadata": {},
   "outputs": [],
   "source": [
    "train = pd.read_csv('./data/train.csv')\n",
    "metadata = pd.read_csv('./data/supplemental_metadata.csv')\n",
    "import json\n",
    "with open('./data/character_to_prediction_index.json', 'r') as f:\n",
    "    char_map = json.load(f)"
   ]
  },
  {
   "cell_type": "markdown",
   "id": "288697cd",
   "metadata": {},
   "source": [
    "## Tipo de datos del dataset"
   ]
  },
  {
   "cell_type": "code",
   "execution_count": 5,
   "id": "13426865",
   "metadata": {},
   "outputs": [
    {
     "name": "stdout",
     "output_type": "stream",
     "text": [
      "Dimensiones del dataset: (67208, 5)\n",
      "\n",
      "Tipos de datos:\n",
      "path              object\n",
      "file_id            int64\n",
      "sequence_id        int64\n",
      "participant_id     int64\n",
      "phrase            object\n",
      "dtype: object\n",
      "\n",
      "Primeras filas:\n"
     ]
    },
    {
     "data": {
      "text/html": [
       "<div>\n",
       "<style scoped>\n",
       "    .dataframe tbody tr th:only-of-type {\n",
       "        vertical-align: middle;\n",
       "    }\n",
       "\n",
       "    .dataframe tbody tr th {\n",
       "        vertical-align: top;\n",
       "    }\n",
       "\n",
       "    .dataframe thead th {\n",
       "        text-align: right;\n",
       "    }\n",
       "</style>\n",
       "<table border=\"1\" class=\"dataframe\">\n",
       "  <thead>\n",
       "    <tr style=\"text-align: right;\">\n",
       "      <th></th>\n",
       "      <th>path</th>\n",
       "      <th>file_id</th>\n",
       "      <th>sequence_id</th>\n",
       "      <th>participant_id</th>\n",
       "      <th>phrase</th>\n",
       "    </tr>\n",
       "  </thead>\n",
       "  <tbody>\n",
       "    <tr>\n",
       "      <th>0</th>\n",
       "      <td>train_landmarks/5414471.parquet</td>\n",
       "      <td>5414471</td>\n",
       "      <td>1816796431</td>\n",
       "      <td>217</td>\n",
       "      <td>3 creekhouse</td>\n",
       "    </tr>\n",
       "    <tr>\n",
       "      <th>1</th>\n",
       "      <td>train_landmarks/5414471.parquet</td>\n",
       "      <td>5414471</td>\n",
       "      <td>1816825349</td>\n",
       "      <td>107</td>\n",
       "      <td>scales/kuhaylah</td>\n",
       "    </tr>\n",
       "    <tr>\n",
       "      <th>2</th>\n",
       "      <td>train_landmarks/5414471.parquet</td>\n",
       "      <td>5414471</td>\n",
       "      <td>1816909464</td>\n",
       "      <td>1</td>\n",
       "      <td>1383 william lanier</td>\n",
       "    </tr>\n",
       "    <tr>\n",
       "      <th>3</th>\n",
       "      <td>train_landmarks/5414471.parquet</td>\n",
       "      <td>5414471</td>\n",
       "      <td>1816967051</td>\n",
       "      <td>63</td>\n",
       "      <td>988 franklin lane</td>\n",
       "    </tr>\n",
       "    <tr>\n",
       "      <th>4</th>\n",
       "      <td>train_landmarks/5414471.parquet</td>\n",
       "      <td>5414471</td>\n",
       "      <td>1817123330</td>\n",
       "      <td>89</td>\n",
       "      <td>6920 northeast 661st road</td>\n",
       "    </tr>\n",
       "  </tbody>\n",
       "</table>\n",
       "</div>"
      ],
      "text/plain": [
       "                              path  file_id  sequence_id  participant_id  \\\n",
       "0  train_landmarks/5414471.parquet  5414471   1816796431             217   \n",
       "1  train_landmarks/5414471.parquet  5414471   1816825349             107   \n",
       "2  train_landmarks/5414471.parquet  5414471   1816909464               1   \n",
       "3  train_landmarks/5414471.parquet  5414471   1816967051              63   \n",
       "4  train_landmarks/5414471.parquet  5414471   1817123330              89   \n",
       "\n",
       "                      phrase  \n",
       "0               3 creekhouse  \n",
       "1            scales/kuhaylah  \n",
       "2        1383 william lanier  \n",
       "3          988 franklin lane  \n",
       "4  6920 northeast 661st road  "
      ]
     },
     "metadata": {},
     "output_type": "display_data"
    }
   ],
   "source": [
    "print('Dimensiones del dataset:', train.shape)\n",
    "print('\\nTipos de datos:')\n",
    "print(train.dtypes)\n",
    "print('\\nPrimeras filas:')\n",
    "display(train.head())"
   ]
  },
  {
   "cell_type": "markdown",
   "id": "7710f501",
   "metadata": {},
   "source": [
    "## Variables numéricas"
   ]
  },
  {
   "cell_type": "code",
   "execution_count": 8,
   "id": "d08f9d30",
   "metadata": {},
   "outputs": [
    {
     "data": {
      "text/html": [
       "<div>\n",
       "<style scoped>\n",
       "    .dataframe tbody tr th:only-of-type {\n",
       "        vertical-align: middle;\n",
       "    }\n",
       "\n",
       "    .dataframe tbody tr th {\n",
       "        vertical-align: top;\n",
       "    }\n",
       "\n",
       "    .dataframe thead th {\n",
       "        text-align: right;\n",
       "    }\n",
       "</style>\n",
       "<table border=\"1\" class=\"dataframe\">\n",
       "  <thead>\n",
       "    <tr style=\"text-align: right;\">\n",
       "      <th></th>\n",
       "      <th>count</th>\n",
       "      <th>mean</th>\n",
       "      <th>std</th>\n",
       "      <th>min</th>\n",
       "      <th>25%</th>\n",
       "      <th>50%</th>\n",
       "      <th>75%</th>\n",
       "      <th>max</th>\n",
       "    </tr>\n",
       "  </thead>\n",
       "  <tbody>\n",
       "    <tr>\n",
       "      <th>file_id</th>\n",
       "      <td>67208.0</td>\n",
       "      <td>1.094448e+09</td>\n",
       "      <td>6.395616e+08</td>\n",
       "      <td>5414471.0</td>\n",
       "      <td>5.277082e+08</td>\n",
       "      <td>1.099408e+09</td>\n",
       "      <td>1.662743e+09</td>\n",
       "      <td>2.118949e+09</td>\n",
       "    </tr>\n",
       "    <tr>\n",
       "      <th>sequence_id</th>\n",
       "      <td>67208.0</td>\n",
       "      <td>1.072696e+09</td>\n",
       "      <td>6.177372e+08</td>\n",
       "      <td>71095.0</td>\n",
       "      <td>5.376519e+08</td>\n",
       "      <td>1.074387e+09</td>\n",
       "      <td>1.605592e+09</td>\n",
       "      <td>2.147465e+09</td>\n",
       "    </tr>\n",
       "    <tr>\n",
       "      <th>participant_id</th>\n",
       "      <td>67208.0</td>\n",
       "      <td>1.197582e+02</td>\n",
       "      <td>7.433047e+01</td>\n",
       "      <td>0.0</td>\n",
       "      <td>6.300000e+01</td>\n",
       "      <td>1.130000e+02</td>\n",
       "      <td>1.780000e+02</td>\n",
       "      <td>2.540000e+02</td>\n",
       "    </tr>\n",
       "  </tbody>\n",
       "</table>\n",
       "</div>"
      ],
      "text/plain": [
       "                  count          mean           std        min           25%  \\\n",
       "file_id         67208.0  1.094448e+09  6.395616e+08  5414471.0  5.277082e+08   \n",
       "sequence_id     67208.0  1.072696e+09  6.177372e+08    71095.0  5.376519e+08   \n",
       "participant_id  67208.0  1.197582e+02  7.433047e+01        0.0  6.300000e+01   \n",
       "\n",
       "                         50%           75%           max  \n",
       "file_id         1.099408e+09  1.662743e+09  2.118949e+09  \n",
       "sequence_id     1.074387e+09  1.605592e+09  2.147465e+09  \n",
       "participant_id  1.130000e+02  1.780000e+02  2.540000e+02  "
      ]
     },
     "execution_count": 8,
     "metadata": {},
     "output_type": "execute_result"
    }
   ],
   "source": [
    "# variables numéricas\n",
    "train.describe().T"
   ]
  },
  {
   "cell_type": "markdown",
   "id": "775283be",
   "metadata": {},
   "source": [
    "## Tablas de frecuencia para variables categóricas"
   ]
  },
  {
   "cell_type": "code",
   "execution_count": null,
   "id": "87bef6d2",
   "metadata": {},
   "outputs": [
    {
     "name": "stdout",
     "output_type": "stream",
     "text": [
      "\n",
      "Frecuencia de valores en participant_id:\n",
      "participant_id\n",
      "36     1535\n",
      "105    1006\n",
      "112     953\n",
      "81      944\n",
      "89      896\n",
      "188     895\n",
      "56      890\n",
      "178     886\n",
      "141     886\n",
      "2       885\n",
      "Name: count, dtype: int64\n",
      "\n",
      "Frecuencia de valores en file_id:\n",
      "file_id\n",
      "5414471      1000\n",
      "105143404    1000\n",
      "128822441    1000\n",
      "149822653    1000\n",
      "152029243    1000\n",
      "234418913    1000\n",
      "296317215    1000\n",
      "433948159    1000\n",
      "522550314    1000\n",
      "527708222    1000\n",
      "Name: count, dtype: int64\n",
      "\n",
      "Frecuencia de valores en sequence_id:\n",
      "sequence_id\n",
      "1816796431    1\n",
      "1816825349    1\n",
      "1816909464    1\n",
      "1816967051    1\n",
      "1817123330    1\n",
      "1817141095    1\n",
      "1817169529    1\n",
      "1817171518    1\n",
      "1817195757    1\n",
      "1817216847    1\n",
      "Name: count, dtype: int64\n",
      "\n",
      "Frecuencia de valores en phrase:\n",
      "phrase\n",
      "surprise az                        17\n",
      "yonkers new york                   16\n",
      "fort worth tx                      16\n",
      "raleigh north carolina             15\n",
      "buffalo ny                         14\n",
      "north charleston south carolina    13\n",
      "alexandria virginia                13\n",
      "sugar land tx                      12\n",
      "overland park ks                   12\n",
      "honolulu hi                        12\n",
      "Name: count, dtype: int64\n"
     ]
    }
   ],
   "source": [
    "cat_cols = ['participant_id', 'file_id', 'sequence_id', 'phrase']\n",
    "for col in cat_cols:\n",
    "    print(f'\\nFrecuencia de valores en {col}:')\n",
    "    print(train[col].value_counts().head(10))"
   ]
  }
 ],
 "metadata": {
  "kernelspec": {
   "display_name": "Python 3",
   "language": "python",
   "name": "python3"
  },
  "language_info": {
   "codemirror_mode": {
    "name": "ipython",
    "version": 3
   },
   "file_extension": ".py",
   "mimetype": "text/x-python",
   "name": "python",
   "nbconvert_exporter": "python",
   "pygments_lexer": "ipython3",
   "version": "3.13.7"
  }
 },
 "nbformat": 4,
 "nbformat_minor": 5
}
